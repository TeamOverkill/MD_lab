{
 "cells": [
  {
   "cell_type": "markdown",
   "metadata": {},
   "source": [
    "## Diffusion from displacement of particles\n",
    "In this part of the lab we are going to calculate the self-diffusion of water from positions over time. In the program, a textfile called _msd.txt_ is generated after a simulation has been run, containing the mean squared displacement of water as a function of time. The mean squared displacement of water is calculated by summing the squares of the oxygen displacements from their respective reference positions determined by their start positions, $x_{0,n}$, at predefined points in time. Then, for each sampled point in time, the sum is divided by the total number of water molecules,\n",
    "$$\n",
    "\\begin{align}\n",
    "\\langle(x(t)-x_0)^2\\rangle = \\frac{1}{N}\\sum\\limits_{n=1}^N (x_n(t)-x_{0,n})^2\n",
    "\\label{msd}\n",
    "\\tag{1}\n",
    "\\end{align}\n",
    "$$\n",
    "where $N$ is the total number of particles. \n",
    "\n",
    "If particle interactions are considered, particles will establish a random walk behaovior after enough \"collisions\" have ocuured, causing the mean squared displacement to increase lineary with time. However, in the start of a simulation, it is common that one observes a non-linear dependence of the mean squared displacement on time. This is known as the _ballistic_ regime, taking place because not enough collisions have occured to establish the random walk behavior. Mathematically, this can be shown by considering two different cases,\n",
    "\n",
    "\n",
    "$$\n",
    "\\begin{equation}\n",
    "x(t+\\Delta t) = x(t) \\pm \\delta\n",
    "\\label{diff1}\n",
    "\\tag{2}\n",
    "\\end{equation}\n",
    "$$   \n",
    "\n",
    "$$\n",
    "\\begin{equation}\n",
    "x(t+\\Delta t) = x(t) + \\delta\n",
    "\\label{diff2}\n",
    "\\tag{3}\n",
    "\\end{equation}\n",
    "$$   \n",
    "where equation \\ref{diff1} describes random walk motion, with equal probabilities to move particles in the positive and negative direction, whereas equation \\ref{diff2} describes ballistic motion, only displacing particles in the positive direction. The displacement parameter, $\\delta$, is assumed to keep constant over time. \n",
    "\n",
    "1. Show mathematically that random walk diffusion increases linearly with time, whereas the ballistic one increases linearly with $t^2$, using equations \\ref{diff1} and \\ref{diff2}.\n",
    "\n",
    "_Hint_: First consider one particle and sum over $n$ time steps. Then, average this sum by summing over $N$ particles. The first random walk mean squared displacement will show to increase linearly with time, whereas the ballistic one will increase linearly with $t^2$.\n",
    "2. Run simulations with 216 water molecules for $T=250K$, $T=300K$ and $T=350K$ and determine the diffusion coefficient of water for each temperature using the generated textfile _msd.txt_. Type \n",
    "```js\n",
    "./main WAT216.gro params_prep.mo \n",
    "```\n",
    "\n",
    "in the terminal to start a simulation. Plot the mean squared displacements for all temperatures in the same plot, calculate the corresponding diffusion coefficients and report the values in a table. \n",
    "\n",
    "_Hints_: \n",
    "\n",
    "i) The diffusion coeficient can be obtained using the relation,\n",
    "$$\n",
    "\\begin{equation}\n",
    "D = \\frac{\\langle(x(t)-x_0)^2\\rangle}{2\\pi Nt}\n",
    "\\tag{4}\n",
    "\\end{equation}\n",
    "$$\n",
    "\n",
    "ii) Textfiles can be read into arrays using the package numpy (numerical python) as \n",
    "```python\n",
    "import numpy as np\n",
    "np.loadtxt(\"filename.txt\")\n",
    "```\n",
    "\n",
    "see https://docs.scipy.org/doc/numpy-1.14.0/reference/generated/numpy.loadtxt.html for optional commands.\n",
    "\n",
    "iii) The curve for mean squared displacement as a function of time is often not linear. To obtain a reasonable value of the diffusion coefficient, one most commonly makes a linear regression of the part of the curve that shows nearly linear behavior. This can be done using the package stats of scipy: load by typing \n",
    "```python\n",
    "from scipy import stats\n",
    "```\n",
    "and then run \n",
    "```python\n",
    "slope, intercept, r_value, p_value, std_err = stats.linregress(time_array,msd_array)\n",
    "```\n",
    "3. Plot the dissufion coefficient as a function of temperature and discuss what you observe. Why does diffusion increase with temperature? Use keywords like entropy/thermal energy, enthalpy and local minima.  \n",
    "\n",
    "\n",
    "4. Compare the diffusion of water with that of hexane for the same temperature. How do they differ? Explain what you observe considering difference in water-water and hexane-hexane interactions. "
   ]
  },
  {
   "cell_type": "code",
   "execution_count": 3,
   "metadata": {},
   "outputs": [],
   "source": [
    "# Loading packages\n",
    "import matplotlib.pyplot as plt\n",
    "import numpy as np\n",
    "import os\n",
    "from scipy import stats"
   ]
  },
  {
   "cell_type": "code",
   "execution_count": 4,
   "metadata": {},
   "outputs": [],
   "source": [
    "# Changing directory to where simulation output is stored\n",
    "wdir = '../md-project'\n",
    "os.chdir('../md')"
   ]
  },
  {
   "cell_type": "code",
   "execution_count": 5,
   "metadata": {},
   "outputs": [
    {
     "data": {
      "image/png": "[encoded data removed]",
      "text/plain": [
       "<Figure size 432x288 with 1 Axes>"
      ]
     },
     "metadata": {},
     "output_type": "display_data"
    }
   ],
   "source": [
    "time = np.loadtxt(\"msd.txt\", usecols=0) # Loading time array from msd.txt\n",
    "msd = np.loadtxt(\"msd.txt\", usecols=1) # Loading mean squared displacement for each time, averaged over all oxygens\n",
    "\n",
    "### Plot the msd vs time\n",
    "plt.plot(time, msd) # To do: fill in the empty bracket\n",
    "plt.xlabel('$time$ / ps', fontsize=13) # Assigning x-axis label\n",
    "plt.ylabel(r'$\\langle(x(t)-x_0)^2\\rangle$ / (nm$^2$ ps$^{-1})$', fontsize=13) # Assigning y-axis label\n",
    "plt.savefig('msd_vs_time.pdf')"
   ]
  },
  {
   "cell_type": "code",
   "execution_count": 6,
   "metadata": {},
   "outputs": [
    {
     "name": "stdout",
     "output_type": "stream",
     "text": [
      "3.249915852258715e-05\n"
     ]
    }
   ],
   "source": [
    "slope, intercept, r_value, p_value, std_err = stats.linregress(time,msd)\n",
    "print(slope/6*1e-2)"
   ]
  },
  {
   "cell_type": "code",
   "execution_count": null,
   "metadata": {},
   "outputs": [],
   "source": []
  }
 ],
 "metadata": {
  "kernelspec": {
   "display_name": "Python 3",
   "language": "python",
   "name": "python3"
  },
  "language_info": {
   "codemirror_mode": {
    "name": "ipython",
    "version": 3
   },
   "file_extension": ".py",
   "mimetype": "text/x-python",
   "name": "python",
   "nbconvert_exporter": "python",
   "pygments_lexer": "ipython3",
   "version": "3.7.0"
  }
 },
 "nbformat": 4,
 "nbformat_minor": 2
}
