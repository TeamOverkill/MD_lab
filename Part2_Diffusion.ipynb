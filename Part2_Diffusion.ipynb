{
 "cells": [
  {
   "cell_type": "markdown",
   "metadata": {},
   "source": [
    "## Diffusion from displacement of particles\n",
    "In this part of the lab we are going to calculate the self-diffusion of water from data of the positions over time. In the program, a textfile called _msd.txt_ is generated after a simulation has been run, containing the mean squared displacement of water as a function of time. The mean squared displacement of water is calculated by summing the squares of the oxygen displacements from their respective reference positions determined by their start positions, $x_{0,n}$, at predefined points in time. Then, for each sampled point in time, the sum is divided by the total number of water molecules,\n",
    "$$\n",
    "\\begin{align}\n",
    "\\langle(x(t)-x(t=0))^2\\rangle = \\frac{1}{N}\\sum\\limits_{n=1}^N (x_n(t)-x_n(t=0))^2\n",
    "\\label{msd}\n",
    "\\tag{1}\n",
    "\\end{align}\n",
    "$$\n",
    "where $N$ is the total number of particles. \n",
    "\n",
    "If particles interact, they will establish a random walk behaovior after enough \"collisions\" have ocuured, causing the mean squared displacement to increase lineary with time. However, in the start of a simulation, it is common that one observes a non-linear dependence of the mean squared displacement on time. This is known as the _ballistic_ regime, taking place because not enough collisions have occured to establish the random walk behavior. Mathematically, this can be shown by considering two different cases,\n",
    "\n",
    "\n",
    "$$\n",
    "\\begin{equation}\n",
    "x_1(t+\\Delta t) = x(t) \\pm \\delta\n",
    "\\label{diff1}\n",
    "\\tag{2}\n",
    "\\end{equation}\n",
    "$$   \n",
    "\n",
    "$$\n",
    "\\begin{equation}\n",
    "x_2(t+\\Delta t) = x(t) + \\delta\n",
    "\\label{diff2}\n",
    "\\tag{3}\n",
    "\\end{equation}\n",
    "$$   \n",
    "where equation \\ref{diff1} describes random walk motion, with equal probabilities to move particles in the positive and negative direction, whereas equation \\ref{diff2} describes ballistic motion, only displacing particles in the positive direction. The displacement parameter, $\\delta$, is assumed to keep constant over time.\n",
    "\n",
    "2. Run simulations with 216 water molecules for a series of temperatures (4-5 different, you choose which) and determine the diffusion coefficient of water for each temperature using the generated textfile _msd.txt_. Plot the mean squared displacements for all temperatures in the same plot, calculate the corresponding diffusion coefficients and report the values in a table. \n",
    "\n",
    "*Hints*:\n",
    "\n",
    "i) The diffusion coeficient can be obtained using the relation,\n",
    "$$\n",
    "\\begin{equation}\n",
    "D = \\frac{\\langle(x(t)-x_0)^2\\rangle}{2 Nt}\n",
    "\\tag{4}\n",
    "\\end{equation}\n",
    "$$\n",
    "\n",
    "ii) The curve for mean squared displacement as a function of time is often not linear. To obtain a reasonable value of the diffusion coefficient, one most commonly makes a linear regression of the part of the curve that shows nearly linear behavior. This is done below using the package stats of scipy:\n",
    "\n",
    "```python\n",
    "slope, intercept, r_value, p_value, std_err = stats.linregress(time_array,msd_array)\n",
    "```"
   ]
  },
  {
   "cell_type": "code",
   "execution_count": 1,
   "metadata": {},
   "outputs": [
    {
     "data": {
      "application/vnd.jupyter.widget-view+json": {
       "model_id": "e86e09c1988b4dc9b24e8702d6f6003c",
       "version_major": 2,
       "version_minor": 0
      },
      "text/plain": [
       "_ColormakerRegistry()"
      ]
     },
     "metadata": {},
     "output_type": "display_data"
    }
   ],
   "source": [
    "# Loading packages\n",
    "import matplotlib.pyplot as plt\n",
    "import numpy as np\n",
    "import shutil\n",
    "import os\n",
    "from scipy import stats\n",
    "from tempfile import mkstemp\n",
    "from os import fdopen, remove\n",
    "# Importing modules for loading and viewing\n",
    "import mdtraj as md\n",
    "import nglview as ngl"
   ]
  },
  {
   "cell_type": "code",
   "execution_count": 2,
   "metadata": {},
   "outputs": [
    {
     "name": "stdout",
     "output_type": "stream",
     "text": [
      "/home/kemm38/Molecular_dynamics/Group_1/MD_lab\r\n"
     ]
    }
   ],
   "source": [
    "# Naming directories to be used\n",
    "datadir = 'data/'\n",
    "!pwd"
   ]
  },
  {
   "cell_type": "code",
   "execution_count": 3,
   "metadata": {},
   "outputs": [],
   "source": [
    "# Defining function to replace the value of input parameters in the input file 'config.mo' \n",
    "def replace(file_path, pattern, subst):\n",
    "    with open(file_path,\"r+\") as f:\n",
    "        new_f = f.readlines()\n",
    "        f.seek(0)\n",
    "        for line in new_f:\n",
    "            if pattern not in line:\n",
    "                f.write(line)\n",
    "            else:\n",
    "                f.write(subst+\"\\n\")\n",
    "        f.truncate()"
   ]
  },
  {
   "cell_type": "code",
   "execution_count": 4,
   "metadata": {
    "scrolled": true
   },
   "outputs": [
    {
     "name": "stdout",
     "output_type": "stream",
     "text": [
      "150\n",
      "\n",
      "Running in level 3 debug mode.\n",
      "Vectorization is enabled\n",
      "OpenMP is enabled\n",
      "./../../../Software/mdTemp/build/main WAT_216.equil.gro 4\n",
      "Reading config file:\n",
      "Keyword: iter, value: 5000.000000\n",
      "Keyword: temperature, value: 150.000000\n",
      "Keyword: nof, value: 1000.000000\n",
      "Keyword: outfreq, value: 100.000000\n",
      "Keyword: timestep, value: 0.001000\n",
      "Keyword: dof, value: 3.000000\n",
      "Keyword: out, value: output.gro\n",
      "Keyword: simple, value: 0.000000\n",
      "\n",
      "\n",
      "Read cuboid box dimensions, 1.868930, 1.855290, 1.859630 from file.\n",
      "Read 648 atoms, 216 molecules.\n",
      "Done reading frame\n",
      "Reading parameter file\n",
      "Reading bonds\n",
      "Reading angles\n",
      "\n",
      "\n",
      "Running simulation\n",
      "Initial temp: 0.000000 \n",
      "Progress: 99.9% Temp: 149.5 Avg. temp: 150.7  Pot Energy: -12049.99557 Kin Energy: 1208.427, Speed: 656.9 ps / h\n",
      "Simulation took: 27.639748 seconds.\n",
      "Done\n",
      "200\n",
      "\n",
      "Running in level 3 debug mode.\n",
      "Vectorization is enabled\n",
      "OpenMP is enabled\n",
      "./../../../Software/mdTemp/build/main WAT_216.equil.gro 4\n",
      "Reading config file:\n",
      "Keyword: iter, value: 5000.000000\n",
      "Keyword: temperature, value: 200.000000\n",
      "Keyword: nof, value: 1000.000000\n",
      "Keyword: outfreq, value: 100.000000\n",
      "Keyword: timestep, value: 0.001000\n",
      "Keyword: dof, value: 3.000000\n",
      "Keyword: out, value: output.gro\n",
      "Keyword: simple, value: 0.000000\n",
      "\n",
      "\n",
      "Read cuboid box dimensions, 1.868930, 1.855290, 1.859630 from file.\n",
      "Read 648 atoms, 216 molecules.\n",
      "Done reading frame\n",
      "Reading parameter file\n",
      "Reading bonds\n",
      "Reading angles\n",
      "\n",
      "\n",
      "Running simulation\n",
      "Initial temp: 0.000000 \n",
      "Progress: 99.9% Temp: 199.5 Avg. temp: 200.5  Pot Energy: -11518.90368 Kin Energy: 1612.961, Speed: 644.7 ps / h\n",
      "Simulation took: 27.527297 seconds.\n",
      "Done\n",
      "250\n",
      "\n",
      "Running in level 3 debug mode.\n",
      "Vectorization is enabled\n",
      "OpenMP is enabled\n",
      "./../../../Software/mdTemp/build/main WAT_216.equil.gro 4\n",
      "Reading config file:\n",
      "Keyword: iter, value: 5000.000000\n",
      "Keyword: temperature, value: 250.000000\n",
      "Keyword: nof, value: 1000.000000\n",
      "Keyword: outfreq, value: 100.000000\n",
      "Keyword: timestep, value: 0.001000\n",
      "Keyword: dof, value: 3.000000\n",
      "Keyword: out, value: output.gro\n",
      "Keyword: simple, value: 0.000000\n",
      "\n",
      "\n",
      "Read cuboid box dimensions, 1.868930, 1.855290, 1.859630 from file.\n",
      "Read 648 atoms, 216 molecules.\n",
      "Done reading frame\n",
      "Reading parameter file\n",
      "Reading bonds\n",
      "Reading angles\n",
      "\n",
      "\n",
      "Running simulation\n",
      "Initial temp: 0.000000 \n",
      "Progress: 99.9% Temp: 251.0 Avg. temp: 250.3  Pot Energy: -11048.89433 Kin Energy: 2027.909, Speed: 605.2 ps / h\n",
      "Simulation took: 28.090109 seconds.\n",
      "Done\n",
      "300\n",
      "\n",
      "Running in level 3 debug mode.\n",
      "Vectorization is enabled\n",
      "OpenMP is enabled\n",
      "./../../../Software/mdTemp/build/main WAT_216.equil.gro 4\n",
      "Reading config file:\n",
      "Keyword: iter, value: 5000.000000\n",
      "Keyword: temperature, value: 300.000000\n",
      "Keyword: nof, value: 1000.000000\n",
      "Keyword: outfreq, value: 100.000000\n",
      "Keyword: timestep, value: 0.001000\n",
      "Keyword: dof, value: 3.000000\n",
      "Keyword: out, value: output.gro\n",
      "Keyword: simple, value: 0.000000\n",
      "\n",
      "\n",
      "Read cuboid box dimensions, 1.868930, 1.855290, 1.859630 from file.\n",
      "Read 648 atoms, 216 molecules.\n",
      "Done reading frame\n",
      "Reading parameter file\n",
      "Reading bonds\n",
      "Reading angles\n",
      "\n",
      "\n",
      "Running simulation\n",
      "Initial temp: 0.000000 \n",
      "Progress: 99.9% Temp: 306.4 Avg. temp: 300.1  Pot Energy: -10526.88499 Kin Energy: 2471.236, Speed: 669.9 ps / h\n",
      "Simulation took: 27.156837 seconds.\n",
      "Done\n",
      "350\n",
      "\n",
      "Running in level 3 debug mode.\n",
      "Vectorization is enabled\n",
      "OpenMP is enabled\n",
      "./../../../Software/mdTemp/build/main WAT_216.equil.gro 4\n",
      "Reading config file:\n",
      "Keyword: iter, value: 5000.000000\n",
      "Keyword: temperature, value: 350.000000\n",
      "Keyword: nof, value: 1000.000000\n",
      "Keyword: outfreq, value: 100.000000\n",
      "Keyword: timestep, value: 0.001000\n",
      "Keyword: dof, value: 3.000000\n",
      "Keyword: out, value: output.gro\n",
      "Keyword: simple, value: 0.000000\n",
      "\n",
      "\n",
      "Read cuboid box dimensions, 1.868930, 1.855290, 1.859630 from file.\n",
      "Read 648 atoms, 216 molecules.\n",
      "Done reading frame\n",
      "Reading parameter file\n",
      "Reading bonds\n",
      "Reading angles\n",
      "\n",
      "\n",
      "Running simulation\n",
      "Initial temp: 0.000000 \n",
      "Progress: 99.9% Temp: 359.6 Avg. temp: 349.8  Pot Energy: -9788.77114 Kin Energy: 2898.298, Speed: 634.1 ps / hh\n",
      "Simulation took: 27.373935 seconds.\n",
      "Done\n"
     ]
    }
   ],
   "source": [
    "Ts = [ ] # ENTER CODE HERE: Enter the temperatures you want to simulate, separated by a comma\n",
    "iterations =  # multiply this with the timestep (0.001 ps) and you get the simulation time in ps. Use iterations 5000 <= x <= 50000 \n",
    "\n",
    "replace('config.mo', 'iter', 'iter '+str(iterations))\n",
    "replace('config.mo', 'simple', 'simple '+str(0))\n",
    "replace('config.mo', 'timestep',    'timestep '    + str(0.001))\n",
    "\n",
    "for T in Ts:\n",
    "    print(T)\n",
    "    replace('config.mo', 'temperature', 'temperature '+str(T))\n",
    "    !./src/main WAT_216.equil.gro WAT_216.par config.mo\n",
    "    os.rename('msd.txt', 'msd_T_'+str(T)+'.txt')\n",
    "    shutil.move(\"msd_T_\"+str(T)+\".txt\", datadir+\"msd_T_\"+str(T)+\".txt\")"
   ]
  },
  {
   "cell_type": "code",
   "execution_count": 5,
   "metadata": {},
   "outputs": [
    {
     "data": {
      "image/png": "[encoded data removed]",
      "text/plain": [
       "<Figure size 432x288 with 1 Axes>"
      ]
     },
     "metadata": {
      "needs_background": "light"
     },
     "output_type": "display_data"
    }
   ],
   "source": [
    "for T in Ts: # Looping over temperatures\n",
    "    time = np.loadtxt(datadir+\"msd_T_\"+str(T)+\".txt\", usecols=0) # Loading time array for temperature T\n",
    "    msd = np.loadtxt(datadir+\"msd_T_\"+str(T)+\".txt\", usecols=1) # Loading mean squared displacement for each time, averaged over all oxygens, for temperature T\n",
    "\n",
    "    ### Plot the msd vs time\n",
    "    plt.plot() # ENTER CODE HERE: enter arguments to plot and add labels with label=\"arbitraryLabelName\"\n",
    "plt.xlabel('$time$ / ps', fontsize=13) # Assigning x-axis label\n",
    "plt.ylabel(r'$\\langle(x(t)-x_0)^2\\rangle$ / (nm$^2$ ps$^{-1})$', fontsize=13) # Assigning y-axis label\n",
    "plt.legend() # Plotting legend\n",
    "plt.savefig(datadir+\"msd_vs_time.pdf\") # Saving figure as pdf in subdirectory \"data\""
   ]
  },
  {
   "cell_type": "markdown",
   "metadata": {},
   "source": [
    "3. Plot the diffusion coefficient as a function of temperature in units cm$^2$/s and K, respectively. Discuss what you observe. Why does diffusion increase with temperature? Use keywords like entropy/thermal energy, enthalpy and local minima.  "
   ]
  },
  {
   "cell_type": "code",
   "execution_count": 7,
   "metadata": {},
   "outputs": [
    {
     "data": {
      "text/plain": [
       "Text(0, 0.5, '$D$ / (cm$^2$ s$^{-1}$)')"
      ]
     },
     "execution_count": 7,
     "metadata": {},
     "output_type": "execute_result"
    },
    {
     "data": {
      "image/png": "[encoded data removed]",
      "text/plain": [
       "<Figure size 432x288 with 1 Axes>"
      ]
     },
     "metadata": {
      "needs_background": "light"
     },
     "output_type": "display_data"
    }
   ],
   "source": [
    "# Plotting diffusion vs temperature\n",
    "i = 0 # Initializing counter\n",
    "D = np.zeros([len(Ts)]) # Initializing Diffusion vector\n",
    "N =    # ENTER CODE HERE: Number of dimensions (to be used in the Einstein relation)\n",
    "\n",
    "for T in Ts: # Looping over temperatures\n",
    "    time = np.loadtxt(datadir+\"msd_T_\"+str(T)+\".txt\", usecols=0) # Loading time array for temperature T\n",
    "    msd = np.loadtxt(datadir+\"msd_T_\"+str(T)+\".txt\", usecols=1) # Loading mean squared displacement for each time, averaged over all oxygens, for temperature T\n",
    "    slope, intercept, r_value, p_value, std_err = stats.linregress(time,msd)\n",
    "    #print(msd)\n",
    "    D[i] =     # ENTER CODE HERE: enter the expression for diffusion according to eq. 4, using the slope calculated. You will need a conversion factor to convert the slope in nm^2/ps to cm^2/s. \n",
    "    print(\"D(T=\"+str(T)+\" K) = \", D[i])\n",
    "    i = i+1 # Increasing counter by one\n",
    "plt.plot()      # ENTER CODE HERE: Enter arguments (temperature and diffusion)\n",
    "plt.xlabel('$T$ / K')\n",
    "plt.ylabel('$D$ / (cm$^2$ s$^{-1}$)')"
   ]
  },
  {
   "cell_type": "code",
   "execution_count": 8,
   "metadata": {},
   "outputs": [],
   "source": [
    "# Visualize\n",
    "# Modifying gro files to be compatible with nglview (takes some time: a couple of minutes...)\n",
    "for t in np.arange(0,10,1):\n",
    "    replace('output.gro', 'Generated by Slaymulator, t='+str(t), 'Generated by Slaymulator, t= '+str(t)+'.0')"
   ]
  },
  {
   "cell_type": "code",
   "execution_count": 9,
   "metadata": {},
   "outputs": [],
   "source": [
    "# Loading trajectory\n",
    "waterTraj = md.load(\"output.gro\")"
   ]
  },
  {
   "cell_type": "code",
   "execution_count": 10,
   "metadata": {},
   "outputs": [],
   "source": [
    "# Loading trajectory for viewing\n",
    "viewTraj = ngl.show_mdtraj(waterTraj)"
   ]
  },
  {
   "cell_type": "code",
   "execution_count": 11,
   "metadata": {},
   "outputs": [
    {
     "data": {
      "application/vnd.jupyter.widget-view+json": {
       "model_id": "99566fba784045d486a6d82af7a588a1",
       "version_major": 2,
       "version_minor": 0
      },
      "text/plain": [
       "NGLWidget(max_frame=999)"
      ]
     },
     "metadata": {},
     "output_type": "display_data"
    }
   ],
   "source": [
    "viewTraj"
   ]
  },
  {
   "cell_type": "markdown",
   "metadata": {},
   "source": [
    "## Numerical Errors in MD Simulations:\n",
    "A computer can normally only handle 15 significant numbers. This results in a small error each time a \n",
    "calculation is performed. To get more insight into this phenomenon and it's implications we take advantage \n",
    "of the deterministic nature of MD. \n",
    "\n",
    "In this part you will run a short simulation, approx 5ps, of 12 ions initially placed in the xy-plane, using a structure file called \"2d.gro\". You should then use the last frame of this simulation to run another simulation but this time backwards, with the same number of steps as the first. Since MD is deterministic you should end up at exactly the same configuration as the one you started with. It is important that you choose the same number of steps in both simulations to be able to get a clear picture of the error and the error propagation.\n",
    "\n",
    "Since the ions will only move in two dimensions you are able to plot the positions of one particle in a graph. "
   ]
  },
  {
   "cell_type": "markdown",
   "metadata": {},
   "source": [
    "Run forward simulation:"
   ]
  },
  {
   "cell_type": "code",
   "execution_count": 12,
   "metadata": {},
   "outputs": [
    {
     "name": "stdout",
     "output_type": "stream",
     "text": [
      "\n",
      "Running in level 3 debug mode.\n",
      "Vectorization is enabled\n",
      "OpenMP is enabled\n",
      "./../../../Software/md/build/main 2Dparticles.gro 4\n",
      "Reading config file:\n",
      "Keyword: iter, value: 170000.000000\n",
      "Keyword: temperature, value: 300.000000\n",
      "Keyword: nof, value: 1000.000000\n",
      "Keyword: outfreq, value: 100.000000\n",
      "Keyword: timestep, value: 0.001000\n",
      "Keyword: dof, value: 3.000000\n",
      "Keyword: out, value: output.gro\n",
      "Keyword: simple, value: 1.000000\n",
      "\n",
      "\n",
      "Read cuboid box dimensions, 6.000000, 6.000000, 6.000000 from file.\n",
      "Read 12 atoms, 12 molecules.\n",
      "Done reading frame\n",
      "Reading parameter file\n",
      "Reading bonds\n",
      "Reading angles\n",
      "\n",
      "\n",
      "Running simulation\n",
      "Initial temp: 0.000000 \n",
      "Progress: 99.9% Temp: 0.9 Avg. temp: 1.2  Pot Energy: 0.00006 Kin Energy: 0.131, Speed: 927504.5 ps / h\n",
      "Simulation took: 0.790070 seconds.\n",
      "Done\n"
     ]
    }
   ],
   "source": [
    "iterations = 170000 # multiply this with the timestep (0.001 ps) and you get the simulation time in ps\n",
    "\n",
    "# Modifying config.mo to contain what we want\n",
    "replace('config.mo', 'iter',        'iter '        + str(iterations))\n",
    "replace('config.mo', 'temperature', 'temperature ' + str(300))\n",
    "replace('config.mo', 'timestep',    'timestep '    + str(0.001))\n",
    "replace('config.mo', 'simple',        'simple '    + str(1))\n",
    "\n",
    "# Running\n",
    "!./src/main 2D_NaCl.gro 2D_NaCl.par config.mo\n",
    "\n",
    "# Renaming output files\n",
    "!mv output.gro forward.gro \n",
    "!mv track.txt track_forw.txt"
   ]
  },
  {
   "cell_type": "markdown",
   "metadata": {},
   "source": [
    "Run backward simulation:"
   ]
  },
  {
   "cell_type": "code",
   "execution_count": 13,
   "metadata": {
    "scrolled": true
   },
   "outputs": [
    {
     "name": "stdout",
     "output_type": "stream",
     "text": [
      "Generated by Slaymulator, t=999\n",
      "12\n",
      "    0ion     Na    1   1.323   1.588   0.000  0.0575 -0.0054  0.0000\n",
      "    1ion     Cl    2   5.160   5.183   0.000 -0.0406 -0.0113  0.0000\n",
      "    2ion     Na    3   0.004   4.779   0.000 -0.0333  0.0179  0.0000\n",
      "    3ion     Cl    4   0.955   2.540   0.000 -0.0106 -0.0065  0.0000\n",
      "    4ion     Cl    5   1.500   4.746   0.000  0.0000  0.0283  0.0000\n",
      "    5ion     Na    6   1.500   5.813   0.000 -0.0000  0.0155  0.0000\n",
      "    6ion     Cl    7   1.500   2.812   0.000 -0.0000  0.0094  0.0000\n",
      "    7ion     Na    8   1.500   3.446   0.000 -0.0000 -0.0428  0.0000\n",
      "    8ion     Na    9   1.677   1.588   0.000 -0.0575 -0.0054  0.0000\n",
      "    9ion     Cl   10   3.840   5.183   0.000  0.0406 -0.0113  0.0000\n",
      "   10ion     Na   11   2.996   4.779   0.000  0.0333  0.0179  0.0000\n",
      "   11ion     Cl   12   2.045   2.540   0.000  0.0106 -0.0065  0.0000\n",
      "6.000000    6.000000     6.000000\n",
      "\n",
      "Running in level 3 debug mode.\n",
      "Vectorization is enabled\n",
      "OpenMP is enabled\n",
      "./../../../Software/md/build/main forwardLastFrame.gro 4\n",
      "Reading config file:\n",
      "Keyword: iter, value: 170000.000000\n",
      "Keyword: temperature, value: 300.000000\n",
      "Keyword: nof, value: 1000.000000\n",
      "Keyword: outfreq, value: 100.000000\n",
      "Keyword: timestep, value: -0.001000\n",
      "Keyword: dof, value: 3.000000\n",
      "Keyword: out, value: output.gro\n",
      "Keyword: simple, value: 1.000000\n",
      "\n",
      "\n",
      "Read cuboid box dimensions, 6.000000, 6.000000, 6.000000 from file.\n",
      "Read 12 atoms, 12 molecules.\n",
      "Done reading frame\n",
      "Reading parameter file\n",
      "Reading bonds\n",
      "Reading angles\n",
      "\n",
      "\n",
      "Running simulation\n",
      "Initial temp: 0.874086 \n",
      "Progress: 99.9% Temp: 0.9 Avg. temp: 1.2  Pot Energy: 0.00084 Kin Energy: 0.133, Speed: -997181.3 ps / hh\n",
      "Simulation took: 0.821680 seconds.\n",
      "Done\n"
     ]
    }
   ],
   "source": [
    "replace('config.mo', 'timestep',    'timestep '    + str(-0.001)) # Editing timestep in config.mo to run backwards \n",
    "\n",
    "!tail -n 15 forward.gro | tee forwardLastFrame.gro # Copying last frame from forward.gro to forwardLastFrame.gro\n",
    "\n",
    "# Running\n",
    "!./src/main forwardLastFrame.gro 2D_NaCl.par config.mo\n",
    "\n",
    "# Renaming output files\n",
    "!mv output.gro backward.gro \n",
    "!mv track.txt track_back.txt"
   ]
  },
  {
   "cell_type": "code",
   "execution_count": 14,
   "metadata": {},
   "outputs": [
    {
     "name": "stdout",
     "output_type": "stream",
     "text": [
      "[-2.       -2.000235 -2.000931 -2.00208  -2.003669 -2.005679 -2.00809\n",
      " -2.010876 -2.014013 -2.017473 -2.021228 -2.025252 -2.02952  -2.034006\n",
      " -2.038687 -2.043543 -2.048554 -2.053702 -2.058971 -2.064347 -2.069817\n",
      " -2.075371 -2.080997 -2.086687 -2.092434 -2.098229 -2.104069 -2.109946\n",
      " -2.115857 -2.121797 -2.127763 -2.133751 -2.13976  -2.145786 -2.151828\n",
      " -2.157883 -2.16395  -2.170028 -2.176116 -2.182212 -2.188315 -2.194424\n",
      " -2.200539 -2.20666  -2.212785 -2.218914 -2.225046 -2.231182 -2.23732\n",
      " -2.243461 -2.249605 -2.25575  -2.261897 -2.268046 -2.274196 -2.280347\n",
      " -2.286499 -2.292653 -2.298807 -2.304963 -2.311118 -2.317275 -2.323432\n",
      " -2.32959  -2.335748 -2.341907 -2.348066 -2.354225 -2.360385 -2.366545\n",
      " -2.372705 -2.378865 -2.385026 -2.391187 -2.397348 -2.403509 -2.40967\n",
      " -2.415831 -2.421993 -2.428155 -2.434316 -2.440478 -2.44664  -2.452802\n",
      " -2.458964 -2.465126 -2.471288 -2.47745  -2.483612 -2.489774 -2.495937\n",
      " -2.502099 -2.508261 -2.514423 -2.520586 -2.526748 -2.532911 -2.539073\n",
      " -2.545235 -2.551398 -2.55756  -2.563723 -2.569885 -2.576048 -2.58221\n",
      " -2.588373 -2.594535 -2.600698 -2.60686  -2.613023 -2.619185 -2.625348\n",
      " -2.63151  -2.637673 -2.643835 -2.649998 -2.65616  -2.662323 -2.668486\n",
      " -2.674648 -2.680811 -2.686973 -2.693136 -2.699298 -2.705461 -2.711623\n",
      " -2.717786 -2.723949 -2.730111 -2.736274 -2.742436 -2.748599 -2.754761\n",
      " -2.760924 -2.767087 -2.773249 -2.779412 -2.785574 -2.791737 -2.797899\n",
      " -2.804062 -2.810225 -2.816387 -2.82255  -2.828712 -2.834875 -2.841037\n",
      " -2.8472   -2.853362 -2.859525 -2.865688 -2.87185  -2.878013 -2.884175\n",
      " -2.890338 -2.8965   -2.902663 -2.908826 -2.914988 -2.921151 -2.927313\n",
      " -2.933476 -2.939638 -2.945801 -2.951964 -2.958126 -2.964289 -2.970451\n",
      " -2.976614 -2.982776 -2.988939 -2.995101  2.998736  2.992573  2.986411\n",
      "  2.980248  2.974086  2.967923  2.961761  2.955598  2.949435  2.943273\n",
      "  2.93711   2.930948  2.924785  2.918623  2.91246   2.906297  2.900135\n",
      "  2.893972  2.88781   2.881647  2.875485  2.869322  2.86316   2.856997\n",
      "  2.850834  2.844672  2.838509  2.832347  2.826184  2.820022  2.813859\n",
      "  2.807696  2.801534  2.795371  2.789209  2.783046  2.776884  2.770721\n",
      "  2.764559  2.758396  2.752233  2.746071  2.739908  2.733746  2.727583\n",
      "  2.721421  2.715258  2.709095  2.702933  2.69677   2.690608  2.684445\n",
      "  2.678283  2.67212   2.665958  2.659795  2.653632  2.64747   2.641307\n",
      "  2.635145  2.628982  2.62282   2.616657  2.610494  2.604332  2.598169\n",
      "  2.592007  2.585844  2.579682  2.573519  2.567357  2.561194  2.555031\n",
      "  2.548869  2.542706  2.536544  2.530381  2.524219  2.518056  2.511894\n",
      "  2.505731  2.499568  2.493406  2.487243  2.481081  2.474918  2.468756\n",
      "  2.462593  2.456431  2.450268  2.444106  2.437943  2.431781  2.425619\n",
      "  2.419456  2.413294  2.407132  2.40097   2.394808  2.388647  2.382485\n",
      "  2.376324  2.370164  2.364004  2.357845  2.351687  2.34553   2.339376\n",
      "  2.333224  2.327077  2.320934  2.314799  2.308674  2.302563  2.296472\n",
      "  2.290409  2.284387  2.27842   2.272532  2.266751  2.261113  2.255663\n",
      "  2.250445  2.245498  2.240848  2.236503  2.232446  2.228646  2.225063\n",
      "  2.221655  2.218384  2.215217  2.212128  2.209098  2.206112  2.203158\n",
      "  2.200228  2.197316  2.194418  2.191529  2.188649  2.185773  2.182903\n",
      "  2.180035  2.177171  2.174308  2.171447  2.168587  2.165728  2.162869\n",
      "  2.160011  2.157154  2.154297  2.151441  2.148584  2.145728  2.142872\n",
      "  2.140016  2.13716   2.134305  2.131449  2.128593  2.125738  2.122882\n",
      "  2.120027  2.117171  2.114316  2.111461  2.108605  2.10575   2.102894\n",
      "  2.100039  2.097184  2.094328  2.091473  2.088618  2.085763  2.082907\n",
      "  2.080052  2.077197  2.074341  2.071486  2.068631  2.065776  2.06292\n",
      "  2.060065  2.05721   2.054355  2.051499  2.048644  2.045789  2.042934\n",
      "  2.040078  2.037223  2.034368  2.031513  2.028657  2.025802  2.022947\n",
      "  2.020092  2.017236  2.014381  2.011526  2.008671  2.005815  2.00296\n",
      "  2.000105  1.99725   1.994395  1.991539  1.988684  1.985829  1.982974\n",
      "  1.980119  1.977263  1.974408  1.971553  1.968698  1.965842  1.962987\n",
      "  1.960132  1.957277  1.954421  1.951566  1.948711  1.945855  1.943\n",
      "  1.940144  1.937289  1.934433  1.931578  1.928722  1.925866  1.92301\n",
      "  1.920154  1.917298  1.914442  1.911585  1.908729  1.905872  1.903015\n",
      "  1.900158  1.8973    1.894443  1.891585  1.888726  1.885868  1.883009\n",
      "  1.880149  1.87729   1.87443   1.871569  1.868708  1.865847  1.862985\n",
      "  1.860123  1.857261  1.854398  1.851535  1.848671  1.845808  1.842943\n",
      "  1.840079  1.837215  1.83435   1.831486  1.828621  1.825757  1.822893\n",
      "  1.820029  1.817166  1.814303  1.811442  1.808581  1.805722  1.802865\n",
      "  1.800009  1.797155  1.794304  1.791456  1.788612  1.785771  1.782935\n",
      "  1.780104  1.77728   1.774462  1.771653  1.768853  1.766063  1.763286\n",
      "  1.760523  1.757776  1.755048  1.752341  1.749659  1.747005  1.744384\n",
      "  1.741801  1.73926   1.736769  1.734335  1.731966  1.72967   1.727459\n",
      "  1.725343  1.723335  1.721449  1.719697  1.718096  1.716659  1.715402\n",
      "  1.714338  1.713481  1.712842  1.712428  1.712247  1.7123    1.712587\n",
      "  1.713103  1.713842  1.714794  1.715946  1.717287  1.7188    1.720471\n",
      "  1.722285  1.724229  1.726287  1.728448  1.730698  1.733029  1.735429\n",
      "  1.73789   1.740405  1.742966  1.745568  1.748205  1.750872  1.753567\n",
      "  1.756285  1.759023  1.761778  1.764549  1.767334  1.77013   1.772937\n",
      "  1.775752  1.778575  1.781405  1.784241  1.787083  1.789929  1.792779\n",
      "  1.795632  1.798489  1.801349  1.804211  1.807075  1.809941  1.812809\n",
      "  1.815678  1.818549  1.821421  1.824294  1.827168  1.830043  1.832918\n",
      "  1.835795  1.838671  1.841549  1.844427  1.847305  1.850184  1.853063\n",
      "  1.855942  1.858822  1.861701  1.864582  1.867462  1.870342  1.873223\n",
      "  1.876104  1.878985  1.881866  1.884747  1.887628  1.89051   1.893391\n",
      "  1.896273  1.899155  1.902036  1.904918  1.9078    1.910682  1.913564\n",
      "  1.916445  1.919327  1.922209  1.925091  1.927974  1.930856  1.933738\n",
      "  1.93662   1.939502  1.942384  1.945266  1.948149  1.951031  1.953913\n",
      "  1.956795  1.959678  1.96256   1.965442  1.968324  1.971207  1.974089\n",
      "  1.976971  1.979854  1.982736  1.985618  1.988501  1.991383  1.994265\n",
      "  1.997148  2.00003   2.002912  2.005795  2.008677  2.011559  2.014442\n",
      "  2.017324  2.020206  2.023089  2.025971  2.028854  2.031736  2.034618\n",
      "  2.037501  2.040383  2.043265  2.046148  2.04903   2.051913  2.054795\n",
      "  2.057677  2.06056   2.063442  2.066325  2.069207  2.072089  2.074972\n",
      "  2.077854  2.080736  2.083619  2.086501  2.089384  2.092266  2.095148\n",
      "  2.098031  2.100913  2.103796  2.106678  2.10956   2.112443  2.115325\n",
      "  2.118208  2.12109   2.123972  2.126855  2.129737  2.13262   2.135502\n",
      "  2.138384  2.141267  2.144149  2.147032  2.149914  2.152796  2.155679\n",
      "  2.158561  2.161444  2.164326  2.167208  2.170091  2.172973  2.175855\n",
      "  2.178738  2.18162   2.184503  2.187385  2.190267  2.19315   2.196032\n",
      "  2.198915  2.201797  2.204679  2.207562  2.210444  2.213327  2.216209\n",
      "  2.219091  2.221974  2.224856  2.227739  2.230621  2.233503  2.236386\n",
      "  2.239268  2.242151  2.245033  2.247915  2.250798  2.25368   2.256563\n",
      "  2.259445  2.262327  2.26521   2.268092  2.270974  2.273857  2.276739\n",
      "  2.279622  2.282504  2.285386  2.288269  2.291151  2.294033  2.296915\n",
      "  2.299798  2.30268   2.305562  2.308444  2.311326  2.314208  2.31709\n",
      "  2.319971  2.322853  2.325734  2.328615  2.331495  2.334375  2.337254\n",
      "  2.340131  2.343007  2.345881  2.348752  2.351619  2.354481  2.357334\n",
      "  2.360176  2.363002  2.365805  2.368574  2.371293  2.373938  2.376471\n",
      "  2.378838  2.380952  2.382686  2.383855  2.384204  2.38341   2.381129\n",
      "  2.37708   2.371147  2.363434  2.354212  2.343823  2.33259   2.32077\n",
      "  2.308555  2.296075  2.283418  2.270643  2.257789  2.244881  2.231936\n",
      "  2.218966  2.205979  2.192979  2.179971  2.166956  2.153937  2.140915\n",
      "  2.12789   2.114864  2.101836  2.088807  2.075778  2.062748  2.049717\n",
      "  2.036687  2.023656  2.010625  1.997593  1.984562  1.971531  1.958499\n",
      "  1.945468  1.932436  1.919404  1.906373  1.893341  1.88031   1.867278\n",
      "  1.854247  1.841216  1.828186  1.815156  1.802128  1.789102  1.776081\n",
      "  1.763068  1.750069  1.7371    1.724188  1.711398  1.698869  1.686917\n",
      "  1.676252  1.668288  1.665058  1.667765  1.675384  1.685874  1.697745\n",
      "  1.710239  1.723013  1.735916  1.748882  1.761878  1.774891  1.787912\n",
      "  1.800937  1.813965  1.826995  1.840025  1.853056  1.866087  1.879118\n",
      "  1.89215   1.905182  1.918213  1.931245  1.944277  1.957309  1.97034\n",
      "  1.983372  1.996404  2.009436  2.022467  2.035499  2.048531  2.061563\n",
      "  2.074594  2.087626  2.100658  2.11369   2.126721  2.139753  2.152785\n",
      "  2.165816  2.178848  2.19188   2.204912  2.217943  2.230975  2.244007\n",
      "  2.257038  2.27007   2.283101  2.296133  2.309165  2.322196  2.335228\n",
      "  2.348259  2.361291  2.374322  2.387354  2.400385  2.413417  2.426448\n",
      "  2.43948   2.452511  2.465542  2.478574  2.491605  2.504636  2.517667\n",
      "  2.530698  2.543729  2.556761  2.569792  2.582822  2.595853  2.608884\n",
      "  2.621915  2.634946  2.647976  2.661007  2.674037  2.687067  2.700098\n",
      "  2.713128  2.726158  2.739188  2.752218  2.765247  2.778277  2.791307\n",
      "  2.804336  2.817365  2.830394  2.843423  2.856452  2.86948   2.882508\n",
      "  2.895537  2.908565  2.921592  2.93462   2.947647  2.960674  2.973701\n",
      "  2.986728  2.999754 -2.98722  -2.974194 -2.961169 -2.948143 -2.935118\n",
      " -2.922094 -2.909069 -2.896045 -2.883022 -2.869998 -2.856975 -2.843952\n",
      " -2.83093  -2.817908 -2.804886 -2.791865 -2.778843 -2.765823 -2.752802\n",
      " -2.739782 -2.726762 -2.713743 -2.700724 -2.687705 -2.674687 -2.661669\n",
      " -2.648651 -2.635633 -2.622616 -2.609599 -2.596583 -2.583566 -2.57055\n",
      " -2.557534 -2.544519 -2.531503 -2.518488 -2.505473 -2.492459 -2.479444\n",
      " -2.46643  -2.453416 -2.440402 -2.427388 -2.414374 -2.401361 -2.388347\n",
      " -2.375334 -2.362321 -2.349308 -2.336295 -2.323282 -2.310269 -2.297256\n",
      " -2.284244 -2.271231 -2.258218 -2.245206 -2.232193 -2.219181 -2.206168\n",
      " -2.193156 -2.180143 -2.167131 -2.154118 -2.141106 -2.128093 -2.115081\n",
      " -2.102069 -2.089056 -2.076044 -2.063031 -2.050019 -2.037006 -2.023994\n",
      " -2.010981 -1.997968 -1.984956 -1.971943 -1.958931 -1.945918 -1.932905\n",
      " -1.919893 -1.90688  -1.893868 -1.880855 -1.867843 -1.854831 -1.841819\n",
      " -1.828807 -1.815796 -1.802787 -1.78978  -1.776777 -1.763782 -1.750802\n",
      " -1.737849 -1.724952 -1.712171 -1.699638 -1.687655]\n"
     ]
    },
    {
     "data": {
      "text/plain": [
       "[<matplotlib.lines.Line2D at 0x7fbc4216e5f8>]"
      ]
     },
     "execution_count": 14,
     "metadata": {},
     "output_type": "execute_result"
    },
    {
     "data": {
      "image/png": "[encoded data removed]",
      "text/plain": [
       "<Figure size 432x288 with 1 Axes>"
      ]
     },
     "metadata": {
      "needs_background": "light"
     },
     "output_type": "display_data"
    },
    {
     "data": {
      "image/png": "[encoded data removed]",
      "text/plain": [
       "<Figure size 432x288 with 1 Axes>"
      ]
     },
     "metadata": {
      "needs_background": "light"
     },
     "output_type": "display_data"
    }
   ],
   "source": [
    "# Loading track files\n",
    "forward = np.loadtxt('track_forw.txt', unpack=True)\n",
    "backward = np.loadtxt('track_back.txt', unpack=True)\n",
    "\n",
    "fx = forward[1][1:] - forward[1][:-1]\n",
    "fy = forward[2][1:] - forward[2][:-1]\n",
    "gx = backward[1][1:] - backward[1][:-1]\n",
    "gy = backward[2][1:] - backward[2][:-1]\n",
    "\n",
    "# Plotting forward and backward trajectory\n",
    "plt.figure()\n",
    "plt.plot(forward[1], forward[2], label='forward')\n",
    "plt.plot(backward[1], backward[2], label='backward')\n",
    "plt.xlabel(\"x\")\n",
    "plt.xlabel(\"y\")\n",
    "plt.legend()\n",
    "\n",
    "# Plotting forward and backward trajectory\n",
    "#print(fx)\n",
    "print(forward[1][:-1])\n",
    "plt.figure()\n",
    "plt.plot(fy)"
   ]
  },
  {
   "cell_type": "markdown",
   "metadata": {},
   "source": [
    "1. Plot the positions of one particle from both simulations in the same graph. \n",
    "\n",
    "2. Compare the structure of the first frame in the first simulation and the last frame in the second simulation. \n",
    "\n",
    "3. Shortly discuss the results you have found."
   ]
  },
  {
   "cell_type": "code",
   "execution_count": 15,
   "metadata": {},
   "outputs": [
    {
     "data": {
      "text/plain": [
       "<matplotlib.legend.Legend at 0x7fbc42197240>"
      ]
     },
     "execution_count": 15,
     "metadata": {},
     "output_type": "execute_result"
    },
    {
     "data": {
      "image/png": "[encoded data removed]",
      "text/plain": [
       "<Figure size 432x288 with 1 Axes>"
      ]
     },
     "metadata": {
      "needs_background": "light"
     },
     "output_type": "display_data"
    }
   ],
   "source": [
    "plt.plot(forward[1], forward[2], label='forward')\n",
    "plt.plot(backward[1], backward[2], label='backward')\n",
    "plt.xlabel(\"x\")\n",
    "plt.ylabel(\"y\")\n",
    "plt.legend()"
   ]
  },
  {
   "cell_type": "markdown",
   "metadata": {},
   "source": [
    "## Plot"
   ]
  },
  {
   "cell_type": "code",
   "execution_count": 16,
   "metadata": {},
   "outputs": [],
   "source": [
    "# Modifying gro files to be compatible with nglview\n",
    "for t in np.arange(0,1000,1):\n",
    "    replace('backward.gro', 'Generated by Slaymulator, t='+str(t), 'Generated by Slaymulator, t= '+str(t)+'.0')\n",
    "    replace('forward.gro', 'Generated by Slaymulator, t='+str(t), 'Generated by Slaymulator, t= '+str(t)+'.0')"
   ]
  },
  {
   "cell_type": "code",
   "execution_count": 17,
   "metadata": {},
   "outputs": [],
   "source": [
    "forwardTraj = md.load(\"forward.gro\")\n",
    "backwardTraj = md.load(\"backward.gro\")"
   ]
  },
  {
   "cell_type": "code",
   "execution_count": 18,
   "metadata": {},
   "outputs": [],
   "source": [
    "# Loading files for viewing\n",
    "viewForward = ngl.show_mdtraj(forwardTraj)\n",
    "viewBackward = ngl.show_mdtraj(backwardTraj)"
   ]
  },
  {
   "cell_type": "code",
   "execution_count": 19,
   "metadata": {},
   "outputs": [
    {
     "data": {
      "application/vnd.jupyter.widget-view+json": {
       "model_id": "7bb83b144fec465b8e7c69454f3abef8",
       "version_major": 2,
       "version_minor": 0
      },
      "text/plain": [
       "NGLWidget(max_frame=999)"
      ]
     },
     "metadata": {},
     "output_type": "display_data"
    }
   ],
   "source": [
    "# Viewing forward trajectory\n",
    "viewForward"
   ]
  },
  {
   "cell_type": "code",
   "execution_count": 20,
   "metadata": {},
   "outputs": [
    {
     "data": {
      "application/vnd.jupyter.widget-view+json": {
       "model_id": "76ee111ab7f843a6b47adf340337aedb",
       "version_major": 2,
       "version_minor": 0
      },
      "text/plain": [
       "NGLWidget(max_frame=999)"
      ]
     },
     "metadata": {},
     "output_type": "display_data"
    }
   ],
   "source": [
    "# Viewing backward trajectory\n",
    "viewBackward"
   ]
  },
  {
   "cell_type": "code",
   "execution_count": null,
   "metadata": {},
   "outputs": [],
   "source": []
  }
 ],
 "metadata": {
  "kernelspec": {
   "display_name": "Python 3",
   "language": "python",
   "name": "python3"
  },
  "language_info": {
   "codemirror_mode": {
    "name": "ipython",
    "version": 3
   },
   "file_extension": ".py",
   "mimetype": "text/x-python",
   "name": "python",
   "nbconvert_exporter": "python",
   "pygments_lexer": "ipython3",
   "version": "3.7.6"
  }
 },
 "nbformat": 4,
 "nbformat_minor": 2
}
