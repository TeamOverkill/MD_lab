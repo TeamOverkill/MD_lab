{
 "cells": [
  {
   "cell_type": "markdown",
   "metadata": {},
   "source": [
    "## Diffusion from displacement of particles\n",
    "In this part of the lab we are going to calculate the self-diffusion of water from data of the positions over time. In the program, a textfile called _msd.txt_ is generated after a simulation has been run, containing the mean squared displacement of water as a function of time. The mean squared displacement of water is calculated by summing the squares of the oxygen displacements from their respective reference positions determined by their start positions, $x_{0,n}$, at predefined points in time. Then, for each sampled point in time, the sum is divided by the total number of water molecules,\n",
    "$$\n",
    "\\begin{align}\n",
    "\\langle(x(t)-x(t=0))^2\\rangle = \\frac{1}{N}\\sum\\limits_{n=1}^N (x_n(t)-x_n(t=0))^2\n",
    "\\label{msd}\n",
    "\\tag{1}\n",
    "\\end{align}\n",
    "$$\n",
    "where $N$ is the total number of particles. \n",
    "\n",
    "If particles interact, they will establish a random walk behaovior after enough \"collisions\" have ocuured, causing the mean squared displacement to increase lineary with time. However, in the start of a simulation, it is common that one observes a non-linear dependence of the mean squared displacement on time. This is known as the _ballistic_ regime, taking place because not enough collisions have occured to establish the random walk behavior. Mathematically, this can be shown by considering two different cases,\n",
    "\n",
    "\n",
    "$$\n",
    "\\begin{equation}\n",
    "x_1(t+\\Delta t) = x(t) \\pm \\delta\n",
    "\\label{diff1}\n",
    "\\tag{2}\n",
    "\\end{equation}\n",
    "$$   \n",
    "\n",
    "$$\n",
    "\\begin{equation}\n",
    "x_2(t+\\Delta t) = x(t) + \\delta\n",
    "\\label{diff2}\n",
    "\\tag{3}\n",
    "\\end{equation}\n",
    "$$   \n",
    "where equation \\ref{diff1} describes random walk motion, with equal probabilities to move particles in the positive and negative direction, whereas equation \\ref{diff2} describes ballistic motion, only displacing particles in the positive direction. The displacement parameter, $\\delta$, is assumed to keep constant over time. \n",
    "\n",
    "1. Show mathematically that random walk diffusion increases linearly with time, whereas the ballistic one increases linearly with $t^2$, using equations \\ref{diff1} and \\ref{diff2}.\n",
    "\n",
    "_Hint_: First consider one particle and sum over $n$ time steps. Then, average this sum by summing over $N$ particles. The first random walk mean squared displacement will show to increase linearly with time, whereas the ballistic one will increase linearly with $t^2$.\n",
    "2. Run simulations with 216 water molecules for a series of temperatures (4-5 different, you choose which) and determine the diffusion coefficient of water for each temperature using the generated textfile _msd.txt_. Plot the mean squared displacements for all temperatures in the same plot, calculate the corresponding diffusion coefficients and report the values in a table. \n",
    "\n",
    "_Hints_: \n",
    "\n",
    "i) The diffusion coeficient can be obtained using the relation,\n",
    "$$\n",
    "\\begin{equation}\n",
    "D = \\frac{\\langle(x(t)-x_0)^2\\rangle}{2 Nt}\n",
    "\\tag{4}\n",
    "\\end{equation}\n",
    "$$\n",
    "\n",
    "ii) The curve for mean squared displacement as a function of time is often not linear. To obtain a reasonable value of the diffusion coefficient, one most commonly makes a linear regression of the part of the curve that shows nearly linear behavior. This is done below using the package stats of scipy:\n",
    "\n",
    "```python\n",
    "slope, intercept, r_value, p_value, std_err = stats.linregress(time_array,msd_array)\n",
    "```"
   ]
  },
  {
   "cell_type": "code",
   "execution_count": null,
   "metadata": {},
   "outputs": [],
   "source": [
    "# Loading packages\n",
    "import matplotlib.pyplot as plt\n",
    "import numpy as np\n",
    "import os\n",
    "from scipy import stats\n",
    "from tempfile import mkstemp\n",
    "from shutil import move\n",
    "from os import fdopen, remove"
   ]
  },
  {
   "cell_type": "code",
   "execution_count": null,
   "metadata": {},
   "outputs": [],
   "source": [
    "# Naming directories to be used\n",
    "wdir = '../md-project/'\n",
    "datadir = '../md-project/md_analysis/data/'\n",
    "os.chdir('../md')"
   ]
  },
  {
   "cell_type": "code",
   "execution_count": null,
   "metadata": {},
   "outputs": [],
   "source": [
    "# Defining function to replace the value of the input temperature in \"config.mo\" \n",
    "def replace(file_path, pattern, subst):\n",
    "    with open(file_path,\"r+\") as f:\n",
    "        new_f = f.readlines()\n",
    "        f.seek(0)\n",
    "        for line in new_f:\n",
    "            if pattern not in line:\n",
    "                f.write(line)\n",
    "            else:\n",
    "                f.write(subst+\"\\n\")\n",
    "        f.truncate()"
   ]
  },
  {
   "cell_type": "code",
   "execution_count": null,
   "metadata": {},
   "outputs": [],
   "source": [
    "Ts = [] # Enter the temperatures you want to simulate, separated by a comma\n",
    "iterations = 50000 # multiply this with the timestep (0.001 ps) and you get the simulation time in ps\n",
    "\n",
    "replace('config.mo', 'iter', 'iter '+str(iterations))\n",
    "\n",
    "for T in Ts:\n",
    "    print(T)\n",
    "    replace('config.mo', 'temperature', 'temperature '+str(T))\n",
    "    !./build/main WAT_216.equil.gro params_prep.mo config.mo\n",
    "    os.rename('msd.txt', 'msd_T_'+str(T)+'.txt')\n",
    "    "
   ]
  },
  {
   "cell_type": "code",
   "execution_count": null,
   "metadata": {},
   "outputs": [],
   "source": [
    "for T in Ts: # Looping over temperatures\n",
    "    time = np.loadtxt(\"msd_T_\"+str(T)+\".txt\", usecols=0) # Loading time array for temperature T\n",
    "    msd = np.loadtxt(\"msd_T_\"+str(T)+\".txt\", usecols=1) # Loading mean squared displacement for each time, averaged over all oxygens, for temperature T\n",
    "\n",
    "    ### Plot the msd vs time\n",
    "    plt.plot(time, msd, label=\"T = \"+str(T)) # To do: fill in the empty bracket\n",
    "plt.xlabel('$time$ / ps', fontsize=13) # Assigning x-axis label\n",
    "plt.ylabel(r'$\\langle(x(t)-x_0)^2\\rangle$ / (nm$^2$ ps$^{-1})$', fontsize=13) # Assigning y-axis label\n",
    "plt.legend()\n",
    "plt.savefig('msd_vs_time.pdf')"
   ]
  },
  {
   "cell_type": "code",
   "execution_count": null,
   "metadata": {},
   "outputs": [],
   "source": [
    "i = 0\n",
    "D = np.zeros([len(Ts)])\n",
    "N = 3  # Number of dimensions (to be used in the Einstein relation)\n",
    "\n",
    "for T in Ts: # Looping over temperatures\n",
    "    time = np.loadtxt(\"msd_T_\"+str(T)+\".txt\", usecols=0) # Loading time array for temperature T\n",
    "    msd = np.loadtxt(\"msd_T_\"+str(T)+\".txt\", usecols=1) # Loading mean squared displacement for each time, averaged over all oxygens, for temperature T\n",
    "    slope, intercept, r_value, p_value, std_err = stats.linregress(time,msd)\n",
    "    D[i] = slope/(N*2)*1e-2\n",
    "    print(\"D(T=\"+str(T)+\" K) = \", D[i])\n",
    "    i = i+1\n",
    "\n"
   ]
  },
  {
   "cell_type": "markdown",
   "metadata": {},
   "source": [
    "3. Plot the diffusion coefficient as a function of temperature in units cm$^2$/s and K, respectively. Discuss what you observe. Why does diffusion increase with temperature? Use keywords like entropy/thermal energy, enthalpy and local minima.  "
   ]
  },
  {
   "cell_type": "code",
   "execution_count": null,
   "metadata": {},
   "outputs": [],
   "source": [
    "plt.plot(Ts, D) # Enter arguments (temperature and diffusion)\n",
    "plt.xlabel('$T$ / K')\n",
    "plt.ylabel('$D$ / (cm$^2$ s$^{-1}$)')"
   ]
  }
 ],
 "metadata": {
  "kernelspec": {
   "display_name": "Python 3",
   "language": "python",
   "name": "python3"
  },
  "language_info": {
   "codemirror_mode": {
    "name": "ipython",
    "version": 3
   },
   "file_extension": ".py",
   "mimetype": "text/x-python",
   "name": "python",
   "nbconvert_exporter": "python",
   "pygments_lexer": "ipython3",
   "version": "3.6.7"
  }
 },
 "nbformat": 4,
 "nbformat_minor": 2
}
